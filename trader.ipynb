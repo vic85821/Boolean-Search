{
 "cells": [
  {
   "cell_type": "markdown",
   "metadata": {},
   "source": [
    "# Boolean Search"
   ]
  },
  {
   "cell_type": "markdown",
   "metadata": {},
   "source": [
    "### Description\n",
    "To support queries of matching keywords is a “must-have” function in databases. A query term with boolean operations, such as “國際 and 籃球\", is very useful to quickly identify required content in databases."
   ]
  },
  {
   "cell_type": "code",
   "execution_count": 4,
   "metadata": {},
   "outputs": [],
   "source": [
    "import argparse\n",
    "import csv\n",
    "import time"
   ]
  },
  {
   "cell_type": "markdown",
   "metadata": {},
   "source": [
    "## [Step1] Build Search Engine"
   ]
  },
  {
   "cell_type": "markdown",
   "metadata": {},
   "source": [
    "### (Method 1) Use Jieba Package "
   ]
  },
  {
   "cell_type": "markdown",
   "metadata": {},
   "source": [
    "剛開始試過使用\"結巴\"斷詞系統，將source file的資料進行斷詞並進行index\n",
    "\n",
    "e.g. 2.  美國報告未提證據 俄：操縱大選是無中生有 -->  \"美國\" \"報告\" \"未提\" \"證據\" \"俄\" ...\n",
    "\n",
    "使用斷詞結果當成 key 建立 dictionary\n",
    "\n",
    "e.g. `[美國] = [2]` `[報告] = [2]` `[未提] = [2]` ... "
   ]
  },
  {
   "cell_type": "markdown",
   "metadata": {},
   "source": [
    "### Analysis\n",
    "因為結巴斷詞需要一段時間，並且根據單詞為 key 會導致字典內容太大，搜尋的速度下降 (斷詞搜尋的時間在測試的 data set 上約為 **5.3s**)"
   ]
  },
  {
   "cell_type": "markdown",
   "metadata": {},
   "source": [
    "### (Method2) Not Use Jieba Package"
   ]
  },
  {
   "cell_type": "markdown",
   "metadata": {},
   "source": [
    "為了降低搜尋所需的時間，我更改了建立 search engine 的方法。\n",
    "\n",
    "e.g. \n",
    "\n",
    "2 美國報告未提證據 俄：操縱大選是無中生有  -->  `[美國報告未提證據 俄：操縱大選是無中生有] = [2]`\n",
    "\n",
    "3 新年搶優惠　通路Apple商品加碼送  --> `[新年搶優惠　通路Apple商品加碼送] = [3]`"
   ]
  },
  {
   "cell_type": "code",
   "execution_count": 8,
   "metadata": {},
   "outputs": [],
   "source": [
    "dict = {}\n",
    "with open(\"source.csv\", 'r') as csvfile:\n",
    "    data = csv.reader(csvfile)\n",
    "    for row in data:\n",
    "        try: \n",
    "            dict[row[1]].append(row[0])\n",
    "        except:\n",
    "            dict[row[1]] = [row[0]]"
   ]
  },
  {
   "cell_type": "markdown",
   "metadata": {},
   "source": [
    "### Analysis\n",
    "字典大小縮小，但是每一筆資料的 key 長度增加，因此需要搭配 python 的 `in operator` 進行搜尋 (搜尋的時間在測試的 data set 上約為 **4.5s**)"
   ]
  },
  {
   "cell_type": "markdown",
   "metadata": {},
   "source": [
    "---------------------"
   ]
  },
  {
   "cell_type": "markdown",
   "metadata": {},
   "source": [
    "## [Step 2] Query"
   ]
  },
  {
   "cell_type": "markdown",
   "metadata": {},
   "source": [
    "### Basic\n",
    "透過建立好的 search engine，查詢對應的 index list\n",
    "\n",
    "e.g.\n",
    "川普 and 美國 (`[川普] = [1, 2, 3, 10, 14, 19 ...]` `[美國] = [2, 3, 14, 19, 23, 25 ...]`)\n",
    "\n",
    "再針對取得的 list 進行操作 `[1, 2, 3, 10, 14, 19 ...] and [2, 3, 14, 19, 23, 25 ...] = [2, 3, ...]`"
   ]
  },
  {
   "cell_type": "markdown",
   "metadata": {},
   "source": [
    "### Analysis\n",
    "query 的時間會隨著數量而線性增加 --> 實作 `cache`，減少重複 query 的時間"
   ]
  },
  {
   "cell_type": "markdown",
   "metadata": {},
   "source": [
    "### Approvement"
   ]
  },
  {
   "cell_type": "markdown",
   "metadata": {},
   "source": [
    "每次進行 query 時，先從 `cache` 中尋找是否已經有查詢過，有的話則直接取出使用，若沒有再進行上述步驟，並把結果存入 cache 以便下次查詢"
   ]
  },
  {
   "cell_type": "code",
   "execution_count": null,
   "metadata": {},
   "outputs": [],
   "source": [
    "try:\n",
    "    a = cache[result[0]]\n",
    "except:\n",
    "    a = [value for key, value in dict.items() if result[0] in key]\n",
    "    a = sum(a, [])\n",
    "    cache[result[0]] = a\n",
    "\n",
    "try:\n",
    "    b = cache[result[2]]\n",
    "except:\n",
    "    b = [value for key, value in dict.items() if result[2] in key]                       \n",
    "    b = sum(b, [])\n",
    "    cache[result[2]] = b\n",
    "\n",
    "if(result[1] == 'and'):\n",
    "    ans = list(set(a) & set(b))\n",
    "elif(result[1] == 'or'):\n",
    "    ans = list(set(a) | set(b))\n",
    "elif(result[1] == 'not'):\n",
    "    ans = list(set(a) - (set(a) & set(b)))"
   ]
  },
  {
   "cell_type": "markdown",
   "metadata": {},
   "source": [
    "----------------"
   ]
  },
  {
   "cell_type": "markdown",
   "metadata": {},
   "source": [
    "## Source Code"
   ]
  },
  {
   "cell_type": "code",
   "execution_count": 12,
   "metadata": {},
   "outputs": [
    {
     "name": "stdout",
     "output_type": "stream",
     "text": [
      "build search engine --- 0.15063905715942383 seconds ---\n",
      "query --- 0.17416787147521973 seconds ---\n"
     ]
    }
   ],
   "source": [
    "# encoding=UTF-8\n",
    "#import jieba\n",
    "import argparse\n",
    "import csv\n",
    "import time\n",
    "\n",
    "if __name__ == '__main__':\n",
    "    # You should not modify this part.    \n",
    "    \n",
    "    # Please implement your algorithm below\n",
    "    start_time = time.time()\n",
    "    \n",
    "    # TODO load source data, build search engine\n",
    "    dict = {}\n",
    "    cache = {}\n",
    "    with open(\"source.csv\", 'r') as csvfile:\n",
    "        data = csv.reader(csvfile)\n",
    "        for row in data:\n",
    "            try: \n",
    "                dict[row[1]].append(row[0])\n",
    "            except:\n",
    "                dict[row[1]] = [row[0]]\n",
    "    print(\"build search engine --- %s seconds ---\" % (time.time() - start_time))        \n",
    "    start_time = time.time()\n",
    "    \n",
    "    # TODO compute query result\n",
    "    #jieba.set_dictionary('dict.txt.big.txt')\n",
    "    querys = []    \n",
    "    with open(\"query.txt\", 'r') as csvfile:\n",
    "        data = csv.reader(csvfile)\n",
    "        querys = sum(list(data), [])\n",
    "    \n",
    "    # TODO output result\n",
    "    with open(\"output.txt\", 'w') as output_file:\n",
    "        for i in range(len(querys)):\n",
    "            result = querys[i].split()\n",
    "            \n",
    "            if(len(result) == 3):\n",
    "                try:\n",
    "                    a = cache[result[0]]\n",
    "                except:\n",
    "                    a = [value for key, value in dict.items() if result[0] in key]\n",
    "                    a = sum(a, [])\n",
    "                    cache[result[0]] = a\n",
    "                \n",
    "                try:\n",
    "                    b = cache[result[2]]\n",
    "                except:\n",
    "                    b = [value for key, value in dict.items() if result[2] in key]                       \n",
    "                    b = sum(b, [])\n",
    "                    cache[result[2]] = b\n",
    "    \n",
    "                if(result[1] == 'and'):\n",
    "                    ans = list(set(a) & set(b))\n",
    "                elif(result[1] == 'or'):\n",
    "                    ans = list(set(a) | set(b))\n",
    "                elif(result[1] == 'not'):\n",
    "                    ans = list(set(a) - (set(a) & set(b)))\n",
    "            \n",
    "            elif(len(result) == 5):\n",
    "                try:\n",
    "                    a = cache[result[0]]\n",
    "                except:\n",
    "                    a = [value for key, value in dict.items() if result[0] in key]\n",
    "                    a = sum(a, [])\n",
    "                    cache[result[0]] = a\n",
    "                \n",
    "                try:\n",
    "                    b = cache[result[2]]\n",
    "                except:\n",
    "                    b = [value for key, value in dict.items() if result[2] in key]                       \n",
    "                    b = sum(b, [])\n",
    "                    cache[result[2]] = b\n",
    "                    \n",
    "                try:\n",
    "                    c = cache[result[4]]\n",
    "                except:\n",
    "                    c = [value for key, value in dict.items() if result[4] in key]                       \n",
    "                    c = sum(c, [])\n",
    "                    cache[result[4]] = c\n",
    "                \n",
    "                if(result[1] == 'and'):\n",
    "                    tmp = set(a) & set(b)\n",
    "                elif(result[1] == 'or'):\n",
    "                    tmp = set(a) | set(b)\n",
    "                elif(result[1] == 'not'):\n",
    "                    tmp = set(a) - (set(a) & set(b))\n",
    "            \n",
    "                if(result[3] == 'and'):\n",
    "                    ans = tmp & set(c)\n",
    "                elif(result[3] == 'or'):\n",
    "                    ans = tmp | set(c)\n",
    "                elif(result[3] == 'not'):\n",
    "                    ans = tmp - (tmp & set(c))\n",
    "\n",
    "            \n",
    "            if len(ans) == 0:\n",
    "                output_file.write(\"0\")\n",
    "            else:\n",
    "                output_file.write(str(','.join(sorted(ans,  key=lambda x: int(x)))))\n",
    "    \n",
    "            if i != len(querys) - 1:\n",
    "                output_file.write(\"\\n\")\n",
    "                \n",
    "    print(\"query --- %s seconds ---\" % (time.time() - start_time))"
   ]
  }
 ],
 "metadata": {
  "kernelspec": {
   "display_name": "Python 3",
   "language": "python",
   "name": "python3"
  },
  "language_info": {
   "codemirror_mode": {
    "name": "ipython",
    "version": 3
   },
   "file_extension": ".py",
   "mimetype": "text/x-python",
   "name": "python",
   "nbconvert_exporter": "python",
   "pygments_lexer": "ipython3",
   "version": "3.6.4"
  }
 },
 "nbformat": 4,
 "nbformat_minor": 2
}
